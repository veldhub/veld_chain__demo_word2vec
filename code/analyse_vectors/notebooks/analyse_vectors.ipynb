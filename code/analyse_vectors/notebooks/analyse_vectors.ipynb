{
 "cells": [
  {
   "cell_type": "code",
   "execution_count": 1,
   "id": "b593cfbc-4ec8-40b0-a9ac-a504ba06d78f",
   "metadata": {},
   "outputs": [],
   "source": [
    "import pickle\n",
    "import numpy as np"
   ]
  },
  {
   "cell_type": "code",
   "execution_count": 2,
   "id": "2e144b3d-c9a0-4706-a8cf-05cec5c1f0c2",
   "metadata": {},
   "outputs": [
    {
     "data": {
      "text/plain": [
       "5278"
      ]
     },
     "execution_count": 2,
     "metadata": {},
     "output_type": "execute_result"
    }
   ],
   "source": [
    "with open(\"/veld/input/fasttext/m1.pkl\", \"rb\") as f:\n",
    "    df = pickle.load(f)\n",
    "len(df)"
   ]
  },
  {
   "cell_type": "code",
   "execution_count": 3,
   "id": "1ddd8014-8a11-46cc-b560-5c16bc46c256",
   "metadata": {},
   "outputs": [
    {
     "data": {
      "text/plain": [
       "5278"
      ]
     },
     "execution_count": 3,
     "metadata": {},
     "output_type": "execute_result"
    }
   ],
   "source": [
    "with open(\"/veld/input/glove/m1.pkl\", \"rb\") as f:\n",
    "    dg = pickle.load(f)\n",
    "len(dg)"
   ]
  },
  {
   "cell_type": "code",
   "execution_count": 4,
   "id": "6ce8c7a3-e44d-4115-a65b-7546ebc35cde",
   "metadata": {},
   "outputs": [
    {
     "data": {
      "text/plain": [
       "5277"
      ]
     },
     "execution_count": 4,
     "metadata": {},
     "output_type": "execute_result"
    }
   ],
   "source": [
    "with open(\"/veld/input/word2vec/m1.pkl\", \"rb\") as f:\n",
    "    dw = pickle.load(f)\n",
    "len(dw)"
   ]
  },
  {
   "cell_type": "code",
   "execution_count": 5,
   "id": "004a7485-ad0a-427f-8eaf-b46b2b33eed7",
   "metadata": {},
   "outputs": [],
   "source": [
    "def get_cosine_similarity_of_vectors(v1, v2):\n",
    "    return np.dot(v1, v2) / (np.linalg.norm(v1) * np.linalg.norm(v2))"
   ]
  },
  {
   "cell_type": "code",
   "execution_count": 6,
   "id": "d765dc00-46fa-47fa-bc65-e16661a35c2a",
   "metadata": {},
   "outputs": [
    {
     "data": {
      "text/plain": [
       "0.3466755"
      ]
     },
     "execution_count": 6,
     "metadata": {},
     "output_type": "execute_result"
    }
   ],
   "source": [
    "get_cosine_similarity_of_vectors(df[\"jesus\"], df[\"god\"])"
   ]
  },
  {
   "cell_type": "code",
   "execution_count": 7,
   "id": "32ab6d10-cbcc-4878-9341-42976334c6b0",
   "metadata": {},
   "outputs": [
    {
     "data": {
      "text/plain": [
       "0.1950096"
      ]
     },
     "execution_count": 7,
     "metadata": {},
     "output_type": "execute_result"
    }
   ],
   "source": [
    "get_cosine_similarity_of_vectors(df[\"lamb\"], df[\"god\"])"
   ]
  },
  {
   "cell_type": "code",
   "execution_count": 8,
   "id": "e7465499-1ae8-4cb8-9fc0-9ff84663e152",
   "metadata": {},
   "outputs": [
    {
     "data": {
      "text/plain": [
       "0.5880252248274672"
      ]
     },
     "execution_count": 8,
     "metadata": {},
     "output_type": "execute_result"
    }
   ],
   "source": [
    "get_cosine_similarity_of_vectors(dg[\"jesus\"], dg[\"god\"])"
   ]
  },
  {
   "cell_type": "code",
   "execution_count": 9,
   "id": "3af369ba-7b71-4cc0-a952-f3f5d4587b35",
   "metadata": {},
   "outputs": [
    {
     "data": {
      "text/plain": [
       "-0.1656202294235249"
      ]
     },
     "execution_count": 9,
     "metadata": {},
     "output_type": "execute_result"
    }
   ],
   "source": [
    "get_cosine_similarity_of_vectors(dg[\"lamb\"], dg[\"god\"])"
   ]
  },
  {
   "cell_type": "code",
   "execution_count": 10,
   "id": "e404bafc-478f-4fb5-835f-e8ac12703353",
   "metadata": {},
   "outputs": [
    {
     "data": {
      "text/plain": [
       "0.36016417"
      ]
     },
     "execution_count": 10,
     "metadata": {},
     "output_type": "execute_result"
    }
   ],
   "source": [
    "get_cosine_similarity_of_vectors(dw[\"jesus\"], dw[\"god\"])"
   ]
  },
  {
   "cell_type": "code",
   "execution_count": 11,
   "id": "a8fd7d45-721e-4db1-887f-78461f222d1c",
   "metadata": {},
   "outputs": [
    {
     "data": {
      "text/plain": [
       "0.047733683"
      ]
     },
     "execution_count": 11,
     "metadata": {},
     "output_type": "execute_result"
    }
   ],
   "source": [
    "get_cosine_similarity_of_vectors(dw[\"lamb\"], dw[\"god\"])"
   ]
  }
 ],
 "metadata": {
  "kernelspec": {
   "display_name": "Python 3 (ipykernel)",
   "language": "python",
   "name": "python3"
  },
  "language_info": {
   "codemirror_mode": {
    "name": "ipython",
    "version": 3
   },
   "file_extension": ".py",
   "mimetype": "text/x-python",
   "name": "python",
   "nbconvert_exporter": "python",
   "pygments_lexer": "ipython3",
   "version": "3.10.12"
  }
 },
 "nbformat": 4,
 "nbformat_minor": 5
}
