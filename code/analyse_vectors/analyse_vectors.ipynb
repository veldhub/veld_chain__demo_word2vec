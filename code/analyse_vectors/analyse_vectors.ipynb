{
 "cells": [
  {
   "cell_type": "code",
   "execution_count": null,
   "id": "b593cfbc-4ec8-40b0-a9ac-a504ba06d78f",
   "metadata": {},
   "outputs": [],
   "source": [
    "import numpy as np"
   ]
  },
  {
   "cell_type": "code",
   "execution_count": null,
   "id": "b39c0a51-1d4b-47ce-817d-1652edfef8b6",
   "metadata": {},
   "outputs": [],
   "source": [
    "!ls /veld/input/models/word2vec/"
   ]
  },
  {
   "cell_type": "code",
   "execution_count": null,
   "id": "9cc77f79-a686-45a1-9647-8e3504f5fafd",
   "metadata": {},
   "outputs": [],
   "source": [
    "import pickle"
   ]
  },
  {
   "cell_type": "code",
   "execution_count": null,
   "id": "6ce8c7a3-e44d-4115-a65b-7546ebc35cde",
   "metadata": {},
   "outputs": [],
   "source": [
    "with open(\"/veld/input/models/word2vec/vectors.pkl\", \"rb\") as f:\n",
    "    dw = pickle.load(f)"
   ]
  },
  {
   "cell_type": "code",
   "execution_count": null,
   "id": "46027857-ed29-4798-a4d2-b24a6fdf8b4a",
   "metadata": {},
   "outputs": [],
   "source": [
    "len(dw)"
   ]
  },
  {
   "cell_type": "code",
   "execution_count": null,
   "id": "fd8bd443-2e0f-45bf-920d-7dbc39c43993",
   "metadata": {},
   "outputs": [],
   "source": [
    "dw[\"man\"]"
   ]
  },
  {
   "cell_type": "code",
   "execution_count": null,
   "id": "50688a35-c8e8-4969-b26f-eb6972d736b4",
   "metadata": {},
   "outputs": [],
   "source": [
    "!ls /veld/input/models/glove/"
   ]
  },
  {
   "cell_type": "code",
   "execution_count": null,
   "id": "5dd857aa-dc18-4033-821c-45707e536c8c",
   "metadata": {},
   "outputs": [],
   "source": [
    "with open(\"/veld/input/models/glove/vectors.pkl\", \"rb\") as f:\n",
    "    dg = pickle.load(f)"
   ]
  },
  {
   "cell_type": "code",
   "execution_count": null,
   "id": "3986dd73-5f9b-46c1-9ad0-6f87980a3043",
   "metadata": {},
   "outputs": [],
   "source": [
    "len(dg)"
   ]
  },
  {
   "cell_type": "code",
   "execution_count": null,
   "id": "175d7f69-40ed-4900-a601-32563b74fb3b",
   "metadata": {},
   "outputs": [],
   "source": [
    "!ls /veld/input/models/fasttext/"
   ]
  },
  {
   "cell_type": "code",
   "execution_count": null,
   "id": "2e144b3d-c9a0-4706-a8cf-05cec5c1f0c2",
   "metadata": {},
   "outputs": [],
   "source": [
    "with open(\"/veld/input/models/fasttext/vectors.pkl\", \"rb\") as f:\n",
    "    df = pickle.load(f)"
   ]
  },
  {
   "cell_type": "code",
   "execution_count": null,
   "id": "d35b7270-d283-47b4-abc3-8f289975d334",
   "metadata": {},
   "outputs": [],
   "source": [
    "len(df)"
   ]
  },
  {
   "cell_type": "code",
   "execution_count": null,
   "id": "f7cb16b2-b621-45dc-9571-1f1bfedcfe9c",
   "metadata": {},
   "outputs": [],
   "source": [
    "##################"
   ]
  },
  {
   "cell_type": "code",
   "execution_count": null,
   "id": "004a7485-ad0a-427f-8eaf-b46b2b33eed7",
   "metadata": {},
   "outputs": [],
   "source": [
    "def get_cosine_similarity_of_vectors(v1, v2):\n",
    "    return np.dot(v1, v2) / (np.linalg.norm(v1) * np.linalg.norm(v2))"
   ]
  },
  {
   "cell_type": "code",
   "execution_count": null,
   "id": "d765dc00-46fa-47fa-bc65-e16661a35c2a",
   "metadata": {},
   "outputs": [],
   "source": [
    "get_cosine_similarity_of_vectors(df[\"jesus\"], df[\"god\"])"
   ]
  },
  {
   "cell_type": "code",
   "execution_count": null,
   "id": "e7465499-1ae8-4cb8-9fc0-9ff84663e152",
   "metadata": {},
   "outputs": [],
   "source": [
    "get_cosine_similarity_of_vectors(dg[\"jesus\"], dg[\"god\"])"
   ]
  },
  {
   "cell_type": "code",
   "execution_count": null,
   "id": "e404bafc-478f-4fb5-835f-e8ac12703353",
   "metadata": {},
   "outputs": [],
   "source": [
    "get_cosine_similarity_of_vectors(dw[\"jesus\"], dw[\"god\"])"
   ]
  },
  {
   "cell_type": "code",
   "execution_count": null,
   "id": "df8cb326-c82c-4bdf-816a-6f158b01c4b7",
   "metadata": {},
   "outputs": [],
   "source": []
  }
 ],
 "metadata": {
  "kernelspec": {
   "display_name": "Python 3 (ipykernel)",
   "language": "python",
   "name": "python3"
  },
  "language_info": {
   "codemirror_mode": {
    "name": "ipython",
    "version": 3
   },
   "file_extension": ".py",
   "mimetype": "text/x-python",
   "name": "python",
   "nbconvert_exporter": "python",
   "pygments_lexer": "ipython3",
   "version": "3.10.12"
  }
 },
 "nbformat": 4,
 "nbformat_minor": 5
}
